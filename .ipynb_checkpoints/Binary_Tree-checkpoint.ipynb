{
 "cells": [
  {
   "cell_type": "markdown",
   "id": "370dd730-5914-4d65-9b68-c3407bcaeea1",
   "metadata": {},
   "source": [
    "# 二叉树\n",
    "二叉树的解题方式主要有递归和迭代两种。<br>\n",
    "**递归**<br>\n",
    "递归的重点在于递归函数体和return内容的处理。<font color = 'blue'>个人总结的小规律是计数题型递归return数值，判断题型递归全部返回T/F。**其主要思想是在外层递归中需要接受并使用内层递归的返回值**</font>否则容易丢失数据。详见**leetcode129求根节点到叶节点数字之和**以及**leetcode100相同的树**"
   ]
  },
  {
   "cell_type": "code",
   "execution_count": 1,
   "id": "07f9044e-57b0-40c1-ad16-d4015c4c221f",
   "metadata": {},
   "outputs": [],
   "source": [
    "# Definition for a binary tree node.\n",
    "class TreeNode:\n",
    "    def __init__(self, val=0, left=None, right=None):\n",
    "        self.val = val\n",
    "        self.left = left\n",
    "        self.right = right\n",
    "def preorder_print(root):\n",
    "    if not root:\n",
    "        return\n",
    "    print(root.val)\n",
    "    preorder_print(root.left)\n",
    "    preorder_print(root.right)\n",
    "    \n",
    "    return\n",
    "    "
   ]
  },
  {
   "cell_type": "markdown",
   "id": "d09a762b-db11-419a-a939-7ca1475fd214",
   "metadata": {},
   "source": [
    "## leetcode129 求根节点到叶节点数字之和\n",
    "给你一个二叉树的根节点 root ，树中每个节点都存放有一个 0 到 9 之间的数字。\n",
    "每条从根节点到叶节点的路径都代表一个数字：\n",
    "\n",
    "例如，从根节点到叶节点的路径 1 -> 2 -> 3 表示数字 123 。\n",
    "计算从根节点到叶节点生成的 所有数字之和 。\n",
    "\n",
    "叶节点 是指没有子节点的节点。"
   ]
  },
  {
   "cell_type": "code",
   "execution_count": 2,
   "id": "eef3216b-910f-4361-a3bb-1455718af881",
   "metadata": {},
   "outputs": [],
   "source": [
    "def sumNumbers(root):\n",
    "    def dfs(root,num):\n",
    "        if not root:\n",
    "            return 0\n",
    "        \n",
    "        num = 10*num + root.val\n",
    "\n",
    "        if not root.left and not root.right:\n",
    "            return num\n",
    "        \n",
    "        left = dfs(root.left,num)\n",
    "        right = dfs(root.right,num)\n",
    "\n",
    "        return left+right\n",
    "    \n",
    "    return dfs(root,0)"
   ]
  },
  {
   "cell_type": "code",
   "execution_count": 3,
   "id": "570f4adc-32ab-464e-841c-d3187cae4195",
   "metadata": {},
   "outputs": [
    {
     "name": "stdout",
     "output_type": "stream",
     "text": [
      "25\n"
     ]
    }
   ],
   "source": [
    "test129 = TreeNode(1, TreeNode(3), TreeNode(2))\n",
    "print(sumNumbers(test129))"
   ]
  },
  {
   "cell_type": "markdown",
   "id": "3852a086-1c35-477b-89f8-f1b2dfd1d673",
   "metadata": {},
   "source": [
    "## leetcode100 相同的树\n",
    "给你两棵二叉树的根节点 p 和 q ，编写一个函数来检验这两棵树是否相同。\n",
    "如果两个树在结构上相同，并且节点具有相同的值，则认为它们是相同的。"
   ]
  },
  {
   "cell_type": "markdown",
   "id": "119d10a0-41bb-4263-a7d6-26850f8b1e53",
   "metadata": {},
   "source": [
    "对于本题而言，学习的点在于递归的使用，**None的传递** 。<font color = 'blue'>在python中，None是一个合法的对象，可以被传入函数，只要代码中对None对象的使用时合理的即可。</font>在递归的使用中，可以**在函数体中进行条件判断，通过return来进行递归。**<br>\n",
    "<font color = 'blue'>**None的合法使用**<br>None是一个无值对象，需要避免访问其属性或者使用其方法。但可以将其传入函数并进行是否为None的判断。此外，由于None是合法的对象，所以可以被print。</font>"
   ]
  },
  {
   "cell_type": "code",
   "execution_count": 4,
   "id": "c408063b-8213-44e3-a80d-bbe921397144",
   "metadata": {},
   "outputs": [],
   "source": [
    "def isSameTree(p, q):\n",
    "        if not p and not q:\n",
    "            return True\n",
    "        \n",
    "        if not p or not q or p.val!=q.val:\n",
    "            return False\n",
    "\n",
    "        return isSameTree(p.left,q.left) and isSameTree(p.right,q.right)"
   ]
  },
  {
   "cell_type": "code",
   "execution_count": 5,
   "id": "e69a6240-0491-445e-9beb-b097839152c4",
   "metadata": {},
   "outputs": [
    {
     "name": "stdout",
     "output_type": "stream",
     "text": [
      "False\n"
     ]
    }
   ],
   "source": [
    "p = TreeNode(1, TreeNode(3), TreeNode(2))\n",
    "q = TreeNode(1, TreeNode(2), TreeNode(3))\n",
    "print(isSameTree(p,q))"
   ]
  },
  {
   "cell_type": "markdown",
   "id": "0f027bbe-a824-44fe-973e-c941bf1721a0",
   "metadata": {},
   "source": [
    "## leetcode106 从中序与后序遍历序列构造二叉树\n",
    "给定两个整数数组 inorder 和 postorder ，其中 inorder 是二叉树的中序遍历， postorder 是同一棵树的后序遍历，请你构造并返回这颗二叉树。"
   ]
  },
  {
   "cell_type": "markdown",
   "id": "6e396155-f998-4e1b-9768-df8d8aeae603",
   "metadata": {},
   "source": [
    "本题强化对**递归**和**分治**的理解，将一个大问题不断分为多个小问题，逐个解决。本题中，便是不断获取子树的根节点并进行构建。需要注意的是，后续遍历的过程是左->右->-中，由于是从后续遍历获取根节点，因此要先构造右子树，再构建左子树。<font color = 'blue'>此外，递归函数的返回值也是一个重点需要考虑的点。</font>"
   ]
  },
  {
   "cell_type": "code",
   "execution_count": 6,
   "id": "f14bbfd2-3481-49b5-99a0-52620fdedea8",
   "metadata": {},
   "outputs": [],
   "source": [
    "def buildTree(inorder, postorder):\n",
    "        myDict = {val:index for index,val in enumerate(inorder)}\n",
    "        def construct_subTree(left,right):\n",
    "            if left>right:\n",
    "                return None\n",
    "            \n",
    "            value = postorder.pop()\n",
    "            idx = myDict[value]\n",
    "\n",
    "            root = TreeNode(value)\n",
    "\n",
    "            root.right = construct_subTree(idx+1,right)\n",
    "            root.left = construct_subTree(left,idx-1)\n",
    "            \n",
    "            return root\n",
    "        return construct_subTree(0,len(inorder)-1)"
   ]
  },
  {
   "cell_type": "code",
   "execution_count": 7,
   "id": "adb8ebe1-1cd5-40fc-a36a-3700801db480",
   "metadata": {},
   "outputs": [
    {
     "name": "stdout",
     "output_type": "stream",
     "text": [
      "3\n",
      "9\n",
      "20\n",
      "15\n",
      "7\n"
     ]
    }
   ],
   "source": [
    "inorder = [9,3,15,20,7]\n",
    "postorder = [9,15,7,20,3]\n",
    "preorder_print(buildTree(inorder, postorder))"
   ]
  },
  {
   "cell_type": "markdown",
   "id": "22f35450-0356-408c-a1dd-18789db1ede9",
   "metadata": {},
   "source": [
    "## leetcode 117填充每个节点的下一个右侧结点指针II\n",
    "给定一个二叉树：<br>\n",
    "    struct Node {<br>\n",
    "      int val;<br>\n",
    "      Node *left;<br>\n",
    "      Node *right;<br>\n",
    "      Node *next;<br>\n",
    "    }<br>\n",
    "填充它的每个 next 指针，让这个指针指向其下一个右侧节点。如果找不到下一个右侧节点，则将 next 指针设置为 NULL 。\n",
    "初始状态下，所有 next 指针都被设置为 NULL 。"
   ]
  },
  {
   "cell_type": "markdown",
   "id": "002ebfb7-e2db-425e-805f-ffbd60629579",
   "metadata": {},
   "source": [
    "本题学习的点在于二叉树层次搜索的方法。参考广搜的方案，<font color = 'blue'>使用while q进行广搜的同时，使用n提取队列当层节点数量，然后使用for循环遍历该层节点。</font>"
   ]
  },
  {
   "cell_type": "code",
   "execution_count": 8,
   "id": "ff0eab02-258f-4fb9-8646-35373fd0ac38",
   "metadata": {},
   "outputs": [],
   "source": [
    "from collections import deque\n",
    "def connect(root):\n",
    "    if not root:\n",
    "        return root\n",
    "    \n",
    "    q = deque([root])\n",
    "    while q:\n",
    "        n = len(q)\n",
    "        last = None\n",
    "        for i in range(n):\n",
    "            node = q.popleft()\n",
    "            if node.left:\n",
    "                q.append(node.left)\n",
    "            if node.right:\n",
    "                q.append(node.right)\n",
    "            if last:\n",
    "                last.next = node\n",
    "            last = node\n",
    "    \n",
    "    return root"
   ]
  },
  {
   "cell_type": "markdown",
   "id": "37ad0d7a-8223-4fd5-a331-9c01ccaac6e4",
   "metadata": {},
   "source": [
    "# 二叉搜索树\n",
    "<blockquote>\n",
    "二叉查找树（英语：Binary Search Tree），也称为二叉搜索树、有序二叉树（ordered binary tree）或排序二叉树（sorted binary tree），是指一棵空树或者具有下列性质的二叉树：<br>\n",
    "若任意节点的左子树不空，则左子树上所有节点的值均小于它的根节点的值；<br>\n",
    "若任意节点的右子树不空，则右子树上所有节点的值均大于它的根节点的值；<br>\n",
    "任意节点的左、右子树也分别为二叉查找树；<br>\n",
    "二叉查找树相比于其他数据结构的优势在于查找、插入的时间复杂度较低。为O(logn)。二叉查找树是基础性数据结构，用于构建更为抽象的数据结构，如集合、多重集、关联数组等。\n",
    "</blockquote>"
   ]
  },
  {
   "cell_type": "markdown",
   "id": "85ae2336-ce73-41c1-9321-444b953b6c00",
   "metadata": {},
   "source": [
    "## leetcode530 二叉搜索树的最小绝对差\n",
    "给你一个二叉搜索树的根节点 root ，返回 树中任意两不同节点值之间的最小差值 。\n",
    "\n",
    "差值是一个正数，其数值等于两值之差的绝对值。"
   ]
  },
  {
   "cell_type": "markdown",
   "id": "3124cef0-4035-4548-940d-dfb6ef481bf8",
   "metadata": {},
   "source": [
    "<font color = 'blue'>可以通过设置self.的方式，使得递归函数访问并修改递归函数外部变量，进而简化递归操作。</font>"
   ]
  },
  {
   "cell_type": "code",
   "execution_count": 3,
   "id": "4b781a56-0598-4309-8ec8-c500eaa461ff",
   "metadata": {},
   "outputs": [],
   "source": [
    "class Solution:\n",
    "    def getMinimumDifference(self, root):\n",
    "        self.lastval = -float('inf')\n",
    "        self.minabs = float('inf')\n",
    "\n",
    "        def midorder(root):\n",
    "            if not root:\n",
    "                return \n",
    "            \n",
    "            midorder(root.left)\n",
    "            self.minabs = min(self.minabs, root.val - self.lastval)\n",
    "            self.lastval =  root.val\n",
    "            midorder(root.right)\n",
    "        \n",
    "        midorder(root)\n",
    "        return self.minabs"
   ]
  },
  {
   "cell_type": "code",
   "execution_count": null,
   "id": "9d2539c5-66cf-4529-9a18-10057302e2a2",
   "metadata": {},
   "outputs": [],
   "source": []
  }
 ],
 "metadata": {
  "kernelspec": {
   "display_name": "Python 3 (ipykernel)",
   "language": "python",
   "name": "python3"
  },
  "language_info": {
   "codemirror_mode": {
    "name": "ipython",
    "version": 3
   },
   "file_extension": ".py",
   "mimetype": "text/x-python",
   "name": "python",
   "nbconvert_exporter": "python",
   "pygments_lexer": "ipython3",
   "version": "3.12.7"
  }
 },
 "nbformat": 4,
 "nbformat_minor": 5
}
