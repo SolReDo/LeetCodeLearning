{
 "cells": [
  {
   "cell_type": "markdown",
   "id": "02963dfe-a749-432c-ba10-98a668109f2d",
   "metadata": {},
   "source": [
    "# 输入输出\n",
    "python中可以直接使用input输入，返回一个字符串"
   ]
  },
  {
   "cell_type": "markdown",
   "id": "57f565ab-60e2-4e85-9546-4edac3fc9f5a",
   "metadata": {},
   "source": [
    "## 接受列表\n",
    "输入一个列表，字符以空格隔开"
   ]
  },
  {
   "cell_type": "code",
   "execution_count": 5,
   "id": "5b890156-eca5-417a-b888-43fe6a2193bc",
   "metadata": {},
   "outputs": [
    {
     "name": "stdin",
     "output_type": "stream",
     "text": [
      " 1 2 3 4 5\n"
     ]
    }
   ],
   "source": [
    "mylist = list(map(int,input().split()))"
   ]
  },
  {
   "cell_type": "code",
   "execution_count": 6,
   "id": "21c89559-3d6c-4da7-b3d8-c9d989d1c83c",
   "metadata": {},
   "outputs": [
    {
     "name": "stdout",
     "output_type": "stream",
     "text": [
      "[1, 2, 3, 4, 5]\n"
     ]
    }
   ],
   "source": [
    "print(mylist)"
   ]
  },
  {
   "cell_type": "markdown",
   "id": "f30de066-c459-43a8-ac6c-28c67dcb2769",
   "metadata": {},
   "source": [
    "### map用法\n",
    "```python\n",
    "map(function, iterable, ...)\n",
    "```\n",
    "map() 是 Python 的一个内置函数，用于将一个函数应用到一个可迭代对象（如列表、元组等）的每个元素，并返回一个**迭代器**。可以通过 list() 或其他方式将这个迭代器转换为列表或其他数据类型。"
   ]
  },
  {
   "cell_type": "code",
   "execution_count": null,
   "id": "ba1e1f74-1e26-4ce4-abb3-1e36a99e7372",
   "metadata": {},
   "outputs": [],
   "source": []
  }
 ],
 "metadata": {
  "kernelspec": {
   "display_name": "Python 3 (ipykernel)",
   "language": "python",
   "name": "python3"
  },
  "language_info": {
   "codemirror_mode": {
    "name": "ipython",
    "version": 3
   },
   "file_extension": ".py",
   "mimetype": "text/x-python",
   "name": "python",
   "nbconvert_exporter": "python",
   "pygments_lexer": "ipython3",
   "version": "3.12.7"
  }
 },
 "nbformat": 4,
 "nbformat_minor": 5
}
