{
 "cells": [
  {
   "cell_type": "markdown",
   "id": "42c3bb88-594d-441b-b2c1-e21358c256fc",
   "metadata": {},
   "source": [
    "# 对于各类数据结构使用的总结"
   ]
  },
  {
   "cell_type": "markdown",
   "id": "156466e4-52d1-4c25-b59b-be2b459afeff",
   "metadata": {},
   "source": [
    "## 哈希表\n",
    "在python中，可以使用list和dict实现哈希表。使用dict更为方便"
   ]
  },
  {
   "cell_type": "code",
   "execution_count": null,
   "id": "7049e1f2-5bf4-47e2-83d1-6d9daac38f73",
   "metadata": {},
   "outputs": [],
   "source": []
  }
 ],
 "metadata": {
  "kernelspec": {
   "display_name": "Python 3 (ipykernel)",
   "language": "python",
   "name": "python3"
  },
  "language_info": {
   "codemirror_mode": {
    "name": "ipython",
    "version": 3
   },
   "file_extension": ".py",
   "mimetype": "text/x-python",
   "name": "python",
   "nbconvert_exporter": "python",
   "pygments_lexer": "ipython3",
   "version": "3.12.7"
  }
 },
 "nbformat": 4,
 "nbformat_minor": 5
}
