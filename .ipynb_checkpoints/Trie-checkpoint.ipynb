{
 "cells": [
  {
   "cell_type": "markdown",
   "id": "cb5deb1f-bb8f-4efe-ba9b-a28226f43f4a",
   "metadata": {},
   "source": [
    "# 前缀树\n",
    "前缀树（Trie，也称字典树）是一种树形数据结构，专门用于高效地存储和查找字符串集合，特别是前缀共享的字符串。"
   ]
  },
  {
   "cell_type": "markdown",
   "id": "6a44e0b8-ed6a-4994-9969-f2bc254d0054",
   "metadata": {},
   "source": [
    "## Leetcode208 实现Trie\n",
    "Trie（发音类似 \"try\"）或者说 前缀树 是一种树形数据结构，用于高效地存储和检索字符串数据集中的键。这一数据结构有相当多的应用情景，例如自动补全和拼写检查。<br>\n",
    "请你实现 Trie 类：<br>\n",
    "Trie() 初始化前缀树对象。<br>\n",
    "void insert(String word) 向前缀树中插入字符串 word 。<br>\n",
    "boolean search(String word) 如果字符串 word 在前缀树中，返回 true（即，在检索之前已经插入）；否则，返回 false 。<br>\n",
    "boolean startsWith(String prefix) 如果之前已经插入的字符串 word 的前缀之一为 prefix ，返回 true ；否则，返回 false 。<br>"
   ]
  },
  {
   "cell_type": "code",
   "execution_count": null,
   "id": "b4c07101-7495-4bbc-9125-24e69f6a781a",
   "metadata": {},
   "outputs": [],
   "source": [
    "class Trie:\n",
    "    def __init__(self):\n",
    "        self.children = {}\n",
    "        self.isEnd = False\n",
    "\n",
    "    def insert(self, word: str) -> None:\n",
    "        node = self                                   #从当前对象开始操作，即当前树的根节点开始操作\n",
    "        for char in word:\n",
    "            if char not in node.children:\n",
    "                node.children[char] = Trie()          #字典树的单词是存在路径上的，而不是存在节点上的，节点上存是否为end。\n",
    "            node = node.children[char]\n",
    "        node.isEnd = True\n",
    "        \n",
    "\n",
    "    def search(self, word: str) -> bool:\n",
    "        node = self\n",
    "        for char in word:\n",
    "            if char not in node.children:\n",
    "                return False\n",
    "            node = node.children[char]\n",
    "        return node.isEnd\n",
    "\n",
    "    def startsWith(self, prefix: str) -> bool:\n",
    "        node = self\n",
    "        for char in prefix:\n",
    "            if char not in node.children:\n",
    "                return False\n",
    "            node = node.children[char]\n",
    "        return True"
   ]
  },
  {
   "cell_type": "markdown",
   "id": "a4feb408-e7cc-4841-ae4c-24fb6d890427",
   "metadata": {},
   "source": [
    "## Leetcode211 添加与搜索单词\n",
    "请你设计一个数据结构，支持 添加新单词 和 查找字符串是否与任何先前添加的字符串匹配 。<br>\n",
    "\n",
    "实现词典类 WordDictionary ：<br>\n",
    "\n",
    "WordDictionary() 初始化词典对象<br>\n",
    "void addWord(word) 将 word 添加到数据结构中，之后可以对它进行匹配<br>\n",
    "bool search(word) 如果数据结构中存在字符串与 word 匹配，则返回 true ；否则，返回  false 。word 中可能包含一些 '.' ，每个 . 都可以表示任何一个字母。<br>"
   ]
  },
  {
   "cell_type": "markdown",
   "id": "a128e62d-58a4-433d-85cf-fa54640cfcf4",
   "metadata": {},
   "source": [
    "本题值得留意的点是对于'.'的递归处理:\n",
    "```python\n",
    "if word[i] == '.':\n",
    "    for key in node.dict:\n",
    "        if dfs(node.dict[key],i+1):\n",
    "            return True\n",
    "    return False\n",
    "```\n",
    "代码块中使用if避免了直接return dfs造成跳过后续迭代的key值，然后巧妙使用return True和return False传回递归值"
   ]
  },
  {
   "cell_type": "code",
   "execution_count": 1,
   "id": "29581f0f-851e-4800-a78b-dbd0e34cd912",
   "metadata": {},
   "outputs": [],
   "source": [
    "class WordDictionary:\n",
    "    def __init__(self):\n",
    "        self.dict = {}\n",
    "        self.isend = False\n",
    "\n",
    "    def addWord(self, word: str) -> None:\n",
    "        node = self\n",
    "        for char in word:\n",
    "            if char not in node.dict:\n",
    "                node.dict[char] = WordDictionary()\n",
    "            node = node.dict[char]\n",
    "        node.isend = True\n",
    "\n",
    "    def search(self, word: str) -> bool:\n",
    "        def dfs(node,i):\n",
    "            if i == len(word):\n",
    "                return node.isend\n",
    "            \n",
    "            if word[i] == '.':\n",
    "                for key in node.dict:\n",
    "                    if dfs(node.dict[key],i+1):\n",
    "                        return True\n",
    "                return False\n",
    "\n",
    "            else:\n",
    "                if word[i] not in node.dict:\n",
    "                    return False\n",
    "                return dfs(node.dict[word[i]],i+1)\n",
    "        return dfs(self,0)"
   ]
  },
  {
   "cell_type": "code",
   "execution_count": null,
   "id": "3e1aec1b-32eb-447b-a4ab-f7e558bbd8c9",
   "metadata": {},
   "outputs": [],
   "source": []
  }
 ],
 "metadata": {
  "kernelspec": {
   "display_name": "Python 3 (ipykernel)",
   "language": "python",
   "name": "python3"
  },
  "language_info": {
   "codemirror_mode": {
    "name": "ipython",
    "version": 3
   },
   "file_extension": ".py",
   "mimetype": "text/x-python",
   "name": "python",
   "nbconvert_exporter": "python",
   "pygments_lexer": "ipython3",
   "version": "3.12.7"
  }
 },
 "nbformat": 4,
 "nbformat_minor": 5
}
