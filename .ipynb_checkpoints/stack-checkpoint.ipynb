{
 "cells": [
  {
   "cell_type": "markdown",
   "id": "18444c0e-381e-4990-a366-86127b85736b",
   "metadata": {},
   "source": [
    "# 栈"
   ]
  },
  {
   "cell_type": "markdown",
   "id": "d21e4a0e-2af4-4238-97ba-8441656e6ac2",
   "metadata": {},
   "source": [
    "## 栈的实现\n",
    "python中，直接使用List模拟栈。使用stack.append()入栈,stack.pop()出栈"
   ]
  },
  {
   "cell_type": "markdown",
   "id": "6da66c40-f007-4400-a2eb-1ca6e5f63b46",
   "metadata": {},
   "source": [
    "## Leetcode 20有效的括号\n",
    "给定一个只包括 '('，')'，'{'，'}'，'['，']' 的字符串 s ，判断字符串是否有效。\n",
    "有效字符串需满足：\n",
    "左括号必须用相同类型的右括号闭合。\n",
    "左括号必须以正确的顺序闭合。\n",
    "每个右括号都有一个对应的相同类型的左括号。\n",
    "\n",
    "示例 1：\n",
    "输入：s = \"()\"\n",
    "输出：true\n",
    "\n",
    "示例 2：\n",
    "输入：s = \"()[]{}\"\n",
    "输出：true\n",
    "\n",
    "示例 3：\n",
    "输入：s = \"(]\"\n",
    "输出：false\n",
    "\n",
    "示例 4：\n",
    "输入：s = \"([])\"\n",
    "输出：true"
   ]
  },
  {
   "cell_type": "markdown",
   "id": "91061050-abe7-43a2-a2c8-9c202da3694f",
   "metadata": {},
   "source": [
    "<font color = 'blue'>本题与下题leecode394字符串解码值得注意的点是出栈处理的标志。均为读到**反括号**时处理</font>\n",
    "此外，对于栈来说，大多使用**for**进行循环处理，因为其有**明显的结束位置**，相较于**队列**，由于其没有**明显的结束位置**且常在循环中进行入队列出队列的操作，所以使用**while q**的形式更为适合"
   ]
  },
  {
   "cell_type": "code",
   "execution_count": 7,
   "id": "7f73dc3a-9dfd-41fc-98e3-80c4c934b6f4",
   "metadata": {},
   "outputs": [],
   "source": [
    "def isValid(s):\n",
    "    stack = []\n",
    "    mapping= {')':'(',']':'[','}':'{'}\n",
    "    for char in s:\n",
    "        if char in mapping:\n",
    "            temp = stack.pop() if stack else '@'\n",
    "            if temp != mapping[char]:\n",
    "                return False\n",
    "        else:      \n",
    "            stack.append(char)\n",
    "    if not stack:\n",
    "        return True\n",
    "    else:\n",
    "        return False"
   ]
  },
  {
   "cell_type": "code",
   "execution_count": 2,
   "id": "7aec4c38-73c2-4e31-ab47-4bffb5edac3c",
   "metadata": {},
   "outputs": [
    {
     "data": {
      "text/plain": [
       "True"
      ]
     },
     "execution_count": 2,
     "metadata": {},
     "output_type": "execute_result"
    }
   ],
   "source": [
    "s = \"()[]{}\"\n",
    "isValid(s)"
   ]
  },
  {
   "cell_type": "markdown",
   "id": "771b2bde-45a3-404c-86f0-f98434bcac26",
   "metadata": {},
   "source": [
    "## leetcode 394字符串解码\n",
    "给定一个经过编码的字符串，返回它解码后的字符串。\n",
    "编码规则为: k[encoded_string]，表示其中方括号内部的 encoded_string 正好重复 k 次。注意 k 保证为正整数。\n",
    "你可以认为输入字符串总是有效的；输入字符串中没有额外的空格，且输入的方括号总是符合格式要求的。\n",
    "此外，你可以认为原始数据不包含数字，所有的数字只表示重复的次数 k ，例如不会出现像 3a 或 2[4] 的输入。\n",
    "\n",
    "示例 1：\n",
    "输入：s = \"3[a]2[bc]\"\n",
    "输出：\"aaabcbc\"\n",
    "\n",
    "示例 2：\n",
    "输入：s = \"3[a2[c]]\"\n",
    "输出：\"accaccacc\"\n",
    "\n",
    "示例 3：\n",
    "输入：s = \"2[abc]3[cd]ef\"\n",
    "输出：\"abcabccdcdcdef\"\n",
    "\n",
    "示例 4：\n",
    "输入：s = \"abc3[cd]xyz\"\n",
    "输出：\"abccdcdcdxyz\"\n",
    " \n",
    "提示：\n",
    "1 <= s.length <= 30\n",
    "s 由小写英文字母、数字和方括号 '[]' 组成\n",
    "s 保证是一个 有效 的输入。\n",
    "s 中所有整数的取值范围为 [1, 300] "
   ]
  },
  {
   "cell_type": "code",
   "execution_count": 3,
   "id": "6f007cf0-11e8-401a-b139-31b2f4374b29",
   "metadata": {},
   "outputs": [],
   "source": [
    "def decodeString(s):\n",
    "    stack = []\n",
    "    for char in s:\n",
    "        if char == ']':\n",
    "            myStr = ''\n",
    "            count = ''\n",
    "            while stack and stack[-1]!='[':\n",
    "                myStr = stack.pop() + myStr\n",
    "            stack.pop()\n",
    "\n",
    "            while stack and stack[-1].isdigit():\n",
    "                count = stack.pop()+count\n",
    "            \n",
    "            stack.append(int(count)*myStr)\n",
    "\n",
    "            continue\n",
    "        stack.append(char)\n",
    "\n",
    "    return \"\".join(stack)"
   ]
  },
  {
   "cell_type": "code",
   "execution_count": 4,
   "id": "11690d58-7676-4b7a-a20b-0b50016fe1bf",
   "metadata": {},
   "outputs": [
    {
     "data": {
      "text/plain": [
       "'accaccacc'"
      ]
     },
     "execution_count": 4,
     "metadata": {},
     "output_type": "execute_result"
    }
   ],
   "source": [
    "s = \"3[a2[c]]\"\n",
    "decodeString(s)"
   ]
  },
  {
   "cell_type": "markdown",
   "id": "ffa0b70a-04a5-46dc-b0da-edc0c3bd06b2",
   "metadata": {},
   "source": [
    "## leetcode 739每日温度\n",
    "给定一个整数数组 temperatures ，表示每天的温度，返回一个数组 answer ，其中 answer[i] 是指对于第 i 天，下一个更高温度出现在几天后。如果气温在这之后都不会升高，请在该位置用 0 来代替。\n",
    "\n",
    "示例 1:\n",
    "输入: temperatures = [73,74,75,71,69,72,76,73]\n",
    "输出: [1,1,4,2,1,1,0,0]\n",
    "\n",
    "示例 2:\n",
    "输入: temperatures = [30,40,50,60]\n",
    "输出: [1,1,1,0]\n",
    "\n",
    "示例 3:\n",
    "输入: temperatures = [30,60,90]\n",
    "输出: [1,1,0]"
   ]
  },
  {
   "cell_type": "code",
   "execution_count": 5,
   "id": "3e780ca7-4b5d-46f3-a87b-0f3a6836dbac",
   "metadata": {},
   "outputs": [],
   "source": [
    "def dailyTemperatures(temperatures):\n",
    "    n = len(temperatures)\n",
    "    answer = [0]*n\n",
    "    stack = []\n",
    "    \n",
    "    for i in range(n):\n",
    "        while stack and temperatures[i]>temperatures[stack[-1]]:\n",
    "            index = stack.pop()\n",
    "            answer[index] = i-index\n",
    "\n",
    "        stack.append(i)\n",
    "    return answer"
   ]
  },
  {
   "cell_type": "code",
   "execution_count": 6,
   "id": "6bc46ac4-4939-4721-8513-2c29c2cdd86e",
   "metadata": {},
   "outputs": [
    {
     "data": {
      "text/plain": [
       "[1, 1, 4, 2, 1, 1, 0, 0]"
      ]
     },
     "execution_count": 6,
     "metadata": {},
     "output_type": "execute_result"
    }
   ],
   "source": [
    "temperatures = [73,74,75,71,69,72,76,73]\n",
    "dailyTemperatures(temperatures)"
   ]
  },
  {
   "cell_type": "markdown",
   "id": "0f6cb4c0-9f81-4eca-a797-7481e5698c15",
   "metadata": {},
   "source": [
    "## Leetcode 150逆波兰表达式求值\n",
    "给你一个字符串数组 tokens ，表示一个根据 逆波兰表示法 表示的算术表达式。\n",
    "请你计算该表达式。返回一个表示表达式值的整数。\n",
    "注意：\n",
    "有效的算符为 '+'、'-'、'*' 和 '/' 。\n",
    "每个操作数（运算对象）都可以是一个整数或者另一个表达式。\n",
    "两个整数之间的除法总是 向零截断 。\n",
    "表达式中不含除零运算。\n",
    "输入是一个根据逆波兰表示法表示的算术表达式。\n",
    "答案及所有中间计算结果可以用 32 位 整数表示。\n",
    " \n",
    "示例 1：\n",
    "输入：tokens = [\"2\",\"1\",\"+\",\"3\",\"*\"]\n",
    "输出：9\n",
    "解释：该算式转化为常见的中缀算术表达式为：((2 + 1) * 3) = 9\n",
    "\n",
    "示例 2：\n",
    "输入：tokens = [\"4\",\"13\",\"5\",\"/\",\"+\"]\n",
    "输出：6\n",
    "解释：该算式转化为常见的中缀算术表达式为：(4 + (13 / 5)) = 6\n",
    "\n",
    "示例 3：\n",
    "输入：tokens = [\"10\",\"6\",\"9\",\"3\",\"+\",\"-11\",\"*\",\"/\",\"*\",\"17\",\"+\",\"5\",\"+\"]\n",
    "输出：22\n",
    "解释：该算式转化为常见的中缀算术表达式为：\n",
    "  ((10 * (6 / ((9 + 3) * -11))) + 17) + 5\n",
    "= ((10 * (6 / (12 * -11))) + 17) + 5\n",
    "= ((10 * (6 / -132)) + 17) + 5\n",
    "= ((10 * 0) + 17) + 5\n",
    "= (0 + 17) + 5\n",
    "= 17 + 5\n",
    "= 22\n",
    " \n",
    "提示：\n",
    "1 <= tokens.length <= 104\n",
    "tokens[i] 是一个算符（\"+\"、\"-\"、\"*\" 或 \"/\"），或是在范围 [-200, 200] 内的一个整数\n",
    "\n",
    "逆波兰表达式：\n",
    "逆波兰表达式是一种后缀表达式，所谓后缀就是指算符写在后面。\n",
    "平常使用的算式则是一种中缀表达式，如 ( 1 + 2 ) * ( 3 + 4 ) 。\n",
    "该算式的逆波兰表达式写法为 ( ( 1 2 + ) ( 3 4 + ) * ) 。\n",
    "\n",
    "逆波兰表达式主要有以下两个优点：\n",
    "去掉括号后表达式无歧义，上式即便写成 1 2 + 3 4 + * 也可以依据次序计算出正确结果。\n",
    "适合用栈操作运算：遇到数字则入栈；遇到算符则取出栈顶两个数字进行计算，并将结果压入栈中"
   ]
  },
  {
   "cell_type": "markdown",
   "id": "98d7ec2e-19ca-4bd6-a67b-befb1028f90d",
   "metadata": {},
   "source": [
    "<font color = 'blue'>本题使用try和expect来进行整数判断的处理。</font>实际上可以使用字符串的isdigit方法，将第一个if判断内容改为：if token.isdigit() or (token[0]=='-' and token[1:].isdigit):即可。<font color = 'blue'>isdigit方法无法直接识别负数</font>"
   ]
  },
  {
   "cell_type": "code",
   "execution_count": 3,
   "id": "762976a8-56b3-45b3-a48c-dd32038ca090",
   "metadata": {},
   "outputs": [],
   "source": [
    "def evalRPN(tokens):\n",
    "    stack = []\n",
    "    def isInt(token):\n",
    "        try:\n",
    "            int(token)\n",
    "            return True\n",
    "        except:\n",
    "            return False\n",
    "    for token in tokens:\n",
    "        if isInt(token):\n",
    "            stack.append(int(token))\n",
    "        else:\n",
    "            b = stack.pop()\n",
    "            a = stack.pop()\n",
    "            if token == '+':\n",
    "                c = a+b\n",
    "            elif token == '-':\n",
    "                c = a-b\n",
    "            elif token == '*':\n",
    "                c = a*b\n",
    "            elif token == '/':\n",
    "                c = a/b\n",
    "            stack.append(int(c))\n",
    "    return stack[-1]        "
   ]
  },
  {
   "cell_type": "code",
   "execution_count": 4,
   "id": "c6f2b3e2-d1c9-4bea-b0b3-fe32bb3aa7e0",
   "metadata": {},
   "outputs": [
    {
     "data": {
      "text/plain": [
       "22"
      ]
     },
     "execution_count": 4,
     "metadata": {},
     "output_type": "execute_result"
    }
   ],
   "source": [
    "tokens = [\"10\",\"6\",\"9\",\"3\",\"+\",\"-11\",\"*\",\"/\",\"*\",\"17\",\"+\",\"5\",\"+\"]\n",
    "evalRPN(tokens)"
   ]
  },
  {
   "cell_type": "code",
   "execution_count": null,
   "id": "9ec3d474-512a-426f-b377-0d6d33b58553",
   "metadata": {},
   "outputs": [],
   "source": []
  }
 ],
 "metadata": {
  "kernelspec": {
   "display_name": "Python 3 (ipykernel)",
   "language": "python",
   "name": "python3"
  },
  "language_info": {
   "codemirror_mode": {
    "name": "ipython",
    "version": 3
   },
   "file_extension": ".py",
   "mimetype": "text/x-python",
   "name": "python",
   "nbconvert_exporter": "python",
   "pygments_lexer": "ipython3",
   "version": "3.12.7"
  }
 },
 "nbformat": 4,
 "nbformat_minor": 5
}
