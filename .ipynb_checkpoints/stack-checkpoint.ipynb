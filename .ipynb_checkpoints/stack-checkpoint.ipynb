{
 "cells": [
  {
   "cell_type": "markdown",
   "id": "18444c0e-381e-4990-a366-86127b85736b",
   "metadata": {},
   "source": [
    "# 栈"
   ]
  },
  {
   "cell_type": "markdown",
   "id": "d21e4a0e-2af4-4238-97ba-8441656e6ac2",
   "metadata": {},
   "source": [
    "## 栈的实现\n",
    "python中，直接使用List模拟栈。使用stack.append()入栈,stack.pop()出栈"
   ]
  },
  {
   "cell_type": "markdown",
   "id": "0f6cb4c0-9f81-4eca-a797-7481e5698c15",
   "metadata": {},
   "source": [
    "## Leetcode 150逆波兰表达式求值\n",
    "给你一个字符串数组 tokens ，表示一个根据 逆波兰表示法 表示的算术表达式。\n",
    "请你计算该表达式。返回一个表示表达式值的整数。\n",
    "注意：\n",
    "有效的算符为 '+'、'-'、'*' 和 '/' 。\n",
    "每个操作数（运算对象）都可以是一个整数或者另一个表达式。\n",
    "两个整数之间的除法总是 向零截断 。\n",
    "表达式中不含除零运算。\n",
    "输入是一个根据逆波兰表示法表示的算术表达式。\n",
    "答案及所有中间计算结果可以用 32 位 整数表示。\n",
    " \n",
    "示例 1：\n",
    "输入：tokens = [\"2\",\"1\",\"+\",\"3\",\"*\"]\n",
    "输出：9\n",
    "解释：该算式转化为常见的中缀算术表达式为：((2 + 1) * 3) = 9\n",
    "\n",
    "示例 2：\n",
    "输入：tokens = [\"4\",\"13\",\"5\",\"/\",\"+\"]\n",
    "输出：6\n",
    "解释：该算式转化为常见的中缀算术表达式为：(4 + (13 / 5)) = 6\n",
    "\n",
    "示例 3：\n",
    "输入：tokens = [\"10\",\"6\",\"9\",\"3\",\"+\",\"-11\",\"*\",\"/\",\"*\",\"17\",\"+\",\"5\",\"+\"]\n",
    "输出：22\n",
    "解释：该算式转化为常见的中缀算术表达式为：\n",
    "  ((10 * (6 / ((9 + 3) * -11))) + 17) + 5\n",
    "= ((10 * (6 / (12 * -11))) + 17) + 5\n",
    "= ((10 * (6 / -132)) + 17) + 5\n",
    "= ((10 * 0) + 17) + 5\n",
    "= (0 + 17) + 5\n",
    "= 17 + 5\n",
    "= 22\n",
    " \n",
    "提示：\n",
    "1 <= tokens.length <= 104\n",
    "tokens[i] 是一个算符（\"+\"、\"-\"、\"*\" 或 \"/\"），或是在范围 [-200, 200] 内的一个整数\n",
    "\n",
    "逆波兰表达式：\n",
    "逆波兰表达式是一种后缀表达式，所谓后缀就是指算符写在后面。\n",
    "平常使用的算式则是一种中缀表达式，如 ( 1 + 2 ) * ( 3 + 4 ) 。\n",
    "该算式的逆波兰表达式写法为 ( ( 1 2 + ) ( 3 4 + ) * ) 。\n",
    "\n",
    "逆波兰表达式主要有以下两个优点：\n",
    "去掉括号后表达式无歧义，上式即便写成 1 2 + 3 4 + * 也可以依据次序计算出正确结果。\n",
    "适合用栈操作运算：遇到数字则入栈；遇到算符则取出栈顶两个数字进行计算，并将结果压入栈中"
   ]
  },
  {
   "cell_type": "markdown",
   "id": "98d7ec2e-19ca-4bd6-a67b-befb1028f90d",
   "metadata": {},
   "source": [
    "<font color = 'blue'>本题使用try和expect来进行整数判断的处理。</font>实际上可以使用字符串的isdigit方法，将第一个if判断内容改为：if token.isdigit() or (token[0]=='-' and token[1:].isdigit):即可。<font color = 'blue'>isdigit方法无法直接识别负数</font>"
   ]
  },
  {
   "cell_type": "code",
   "execution_count": 3,
   "id": "762976a8-56b3-45b3-a48c-dd32038ca090",
   "metadata": {},
   "outputs": [],
   "source": [
    "def evalRPN(tokens):\n",
    "    stack = []\n",
    "    def isInt(token):\n",
    "        try:\n",
    "            int(token)\n",
    "            return True\n",
    "        except:\n",
    "            return False\n",
    "    for token in tokens:\n",
    "        if isInt(token):\n",
    "            stack.append(int(token))\n",
    "        else:\n",
    "            b = stack.pop()\n",
    "            a = stack.pop()\n",
    "            if token == '+':\n",
    "                c = a+b\n",
    "            elif token == '-':\n",
    "                c = a-b\n",
    "            elif token == '*':\n",
    "                c = a*b\n",
    "            elif token == '/':\n",
    "                c = a/b\n",
    "            stack.append(int(c))\n",
    "    return stack[-1]        "
   ]
  },
  {
   "cell_type": "code",
   "execution_count": 4,
   "id": "c6f2b3e2-d1c9-4bea-b0b3-fe32bb3aa7e0",
   "metadata": {},
   "outputs": [
    {
     "data": {
      "text/plain": [
       "22"
      ]
     },
     "execution_count": 4,
     "metadata": {},
     "output_type": "execute_result"
    }
   ],
   "source": [
    "tokens = [\"10\",\"6\",\"9\",\"3\",\"+\",\"-11\",\"*\",\"/\",\"*\",\"17\",\"+\",\"5\",\"+\"]\n",
    "evalRPN(tokens)"
   ]
  },
  {
   "cell_type": "code",
   "execution_count": null,
   "id": "9ec3d474-512a-426f-b377-0d6d33b58553",
   "metadata": {},
   "outputs": [],
   "source": []
  }
 ],
 "metadata": {
  "kernelspec": {
   "display_name": "Python 3 (ipykernel)",
   "language": "python",
   "name": "python3"
  },
  "language_info": {
   "codemirror_mode": {
    "name": "ipython",
    "version": 3
   },
   "file_extension": ".py",
   "mimetype": "text/x-python",
   "name": "python",
   "nbconvert_exporter": "python",
   "pygments_lexer": "ipython3",
   "version": "3.12.7"
  }
 },
 "nbformat": 4,
 "nbformat_minor": 5
}
