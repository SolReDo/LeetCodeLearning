{
 "cells": [
  {
   "cell_type": "markdown",
   "id": "402d1301-b51f-4a43-afd1-f416651664c2",
   "metadata": {},
   "source": [
    "# 二分查找\n",
    "二分查找的通解便是使用一个l指针和一个r指针，以此生成"
   ]
  },
  {
   "cell_type": "markdown",
   "id": "318d0a0a-b40b-41af-b234-af182399fcbd",
   "metadata": {},
   "source": [
    "# Leetcode35 搜索插入位置\n",
    "给定一个排序数组和一个目标值，在数组中找到目标值，并返回其索引。如果目标值不存在于数组中，返回它将会被按顺序插入的位置。\n",
    "请必须使用时间复杂度为 O(log n) 的算法。\n",
    "\n",
    "示例 1:\n",
    "输入: nums = [1,3,5,6], target = 5\n",
    "输出: 2\n",
    "\n",
    "示例 2:\n",
    "输入: nums = [1,3,5,6], target = 2\n",
    "输出: 1\n",
    "\n",
    "示例 3:\n",
    "输入: nums = [1,3,5,6], target = 7\n",
    "输出: 4"
   ]
  },
  {
   "cell_type": "code",
   "execution_count": 2,
   "id": "931256d2-c8ce-491a-9c21-46b8e1c2e8a1",
   "metadata": {},
   "outputs": [],
   "source": [
    "def searchInsert(nums, target):\n",
    "    n = len(nums)\n",
    "    l = 0\n",
    "    r = n-1\n",
    "    mid = (l+r)//2\n",
    "    ans = n\n",
    "    while r>=l:\n",
    "        if nums[mid]>target:\n",
    "            ans = mid\n",
    "            r = mid-1\n",
    "        elif nums[mid]<target:\n",
    "            l = mid +1\n",
    "        else:\n",
    "            return mid    \n",
    "        mid = (l+r)//2\n",
    "    return ans"
   ]
  },
  {
   "cell_type": "markdown",
   "id": "d6471109-a610-49a8-b485-c9cf72cb3191",
   "metadata": {},
   "source": [
    "## leetcode162 寻找峰值\n",
    "峰值元素是指其值严格大于左右相邻值的元素。\n",
    "\n",
    "给你一个整数数组 nums，找到峰值元素并返回其索引。数组可能包含多个峰值，在这种情况下，返回 任何一个峰值 所在位置即可。\n",
    "\n",
    "你可以假设 nums[-1] = nums[n] = -∞ 。\n",
    "\n",
    "你必须实现时间复杂度为 O(log n) 的算法来解决此问题。\n",
    "\n",
    "示例 1：\n",
    "输入：nums = [1,2,3,1]\n",
    "输出：2\n",
    "解释：3 是峰值元素，你的函数应该返回其索引 2。\n",
    "\n",
    "示例 2：\n",
    "输入：nums = [1,2,1,3,5,6,4]\n",
    "输出：1 或 5 \n",
    "解释：你的函数可以返回索引 1，其峰值元素为 2；\n",
    "     或者返回索引 5， 其峰值元素为 6。"
   ]
  },
  {
   "cell_type": "code",
   "execution_count": 3,
   "id": "23440a7e-92ec-4f91-b883-c644410a4141",
   "metadata": {},
   "outputs": [],
   "source": [
    "def findPeakElement(nums):\n",
    "    n = len(nums)\n",
    "    def getnum(i):\n",
    "        if i ==-1 or i == n:\n",
    "            return -float('inf')\n",
    "        else:\n",
    "            return nums[i]\n",
    "    \n",
    "    l, r = 0, n-1\n",
    "    mid = (l+r)//2\n",
    "    while l<=r:\n",
    "        if getnum(mid-1)<getnum(mid)>getnum(mid+1):\n",
    "            return mid\n",
    "        elif getnum(mid)<getnum(mid+1):\n",
    "            l = mid+1\n",
    "        else:\n",
    "            r = mid-1\n",
    "            \n",
    "        mid  = mid = (l+r)//2"
   ]
  },
  {
   "cell_type": "code",
   "execution_count": null,
   "id": "375d30bc-5ae3-4fd8-ab11-9ec5fdb12881",
   "metadata": {},
   "outputs": [],
   "source": []
  }
 ],
 "metadata": {
  "kernelspec": {
   "display_name": "Python 3 (ipykernel)",
   "language": "python",
   "name": "python3"
  },
  "language_info": {
   "codemirror_mode": {
    "name": "ipython",
    "version": 3
   },
   "file_extension": ".py",
   "mimetype": "text/x-python",
   "name": "python",
   "nbconvert_exporter": "python",
   "pygments_lexer": "ipython3",
   "version": "3.12.7"
  }
 },
 "nbformat": 4,
 "nbformat_minor": 5
}
