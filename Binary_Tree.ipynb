{
 "cells": [
  {
   "cell_type": "markdown",
   "id": "370dd730-5914-4d65-9b68-c3407bcaeea1",
   "metadata": {},
   "source": [
    "# 二叉树"
   ]
  },
  {
   "cell_type": "code",
   "execution_count": 15,
   "id": "07f9044e-57b0-40c1-ad16-d4015c4c221f",
   "metadata": {},
   "outputs": [],
   "source": [
    "# Definition for a binary tree node.\n",
    "class TreeNode:\n",
    "    def __init__(self, val=0, left=None, right=None):\n",
    "        self.val = val\n",
    "        self.left = left\n",
    "        self.right = right\n",
    "def preorder_print(root):\n",
    "    if not root:\n",
    "        return\n",
    "    print(root.val)\n",
    "    preorder_print(root.left)\n",
    "    preorder_print(root.right)\n",
    "    \n",
    "    return\n",
    "    "
   ]
  },
  {
   "cell_type": "markdown",
   "id": "3852a086-1c35-477b-89f8-f1b2dfd1d673",
   "metadata": {},
   "source": [
    "## leetcode100 相同的树\n",
    "给你两棵二叉树的根节点 p 和 q ，编写一个函数来检验这两棵树是否相同。\n",
    "如果两个树在结构上相同，并且节点具有相同的值，则认为它们是相同的。"
   ]
  },
  {
   "cell_type": "markdown",
   "id": "119d10a0-41bb-4263-a7d6-26850f8b1e53",
   "metadata": {},
   "source": [
    "对于本题而言，学习的点在于递归的使用，**None的传递** 。<font color = 'blue'>在python中，None是一个合法的对象，可以被传入函数，只要代码中对None对象的使用时合理的即可。</font>在递归的使用中，可以在函数体中进行条件判断，通过return来进行递归的流程。<br>\n",
    "<font color = 'blue'>**None的合法使用**<br>None是一个无值对象，需要避免访问其属性或者使用其方法。但可以将其传入函数并进行是否为None的判断。此外，由于None是合法的对象，所以可以被print。</font>"
   ]
  },
  {
   "cell_type": "code",
   "execution_count": 16,
   "id": "c408063b-8213-44e3-a80d-bbe921397144",
   "metadata": {},
   "outputs": [],
   "source": [
    "def isSameTree(p, q):\n",
    "        if not p and not q:\n",
    "            return True\n",
    "        \n",
    "        if not p or not q or p.val!=q.val:\n",
    "            return False\n",
    "\n",
    "        return isSameTree(p.left,q.left) and isSameTree(p.right,q.right)"
   ]
  },
  {
   "cell_type": "code",
   "execution_count": 17,
   "id": "e69a6240-0491-445e-9beb-b097839152c4",
   "metadata": {},
   "outputs": [
    {
     "name": "stdout",
     "output_type": "stream",
     "text": [
      "False\n"
     ]
    }
   ],
   "source": [
    "p = TreeNode(1, TreeNode(3), TreeNode(2))\n",
    "q = TreeNode(1, TreeNode(2), TreeNode(3))\n",
    "print(isSameTree(p,q))"
   ]
  },
  {
   "cell_type": "markdown",
   "id": "0f027bbe-a824-44fe-973e-c941bf1721a0",
   "metadata": {},
   "source": [
    "## leetcode106 从中序与后序遍历序列构造二叉树\n",
    "给定两个整数数组 inorder 和 postorder ，其中 inorder 是二叉树的中序遍历， postorder 是同一棵树的后序遍历，请你构造并返回这颗二叉树。"
   ]
  },
  {
   "cell_type": "markdown",
   "id": "6e396155-f998-4e1b-9768-df8d8aeae603",
   "metadata": {},
   "source": [
    "本题强化对**递归**和**分治**的理解，将一个大问题不断分为多个小问题，逐个解决。本题中，便是不断获取子树的根节点并进行构建。需要注意的是，后续遍历的过程是左->右->-中，由于是从后续遍历获取根节点，因此要先构造右子树，再构建左子树。<font color = 'blue'>此外，递归函数的返回值也是一个重点需要考虑的点。</font>"
   ]
  },
  {
   "cell_type": "code",
   "execution_count": 20,
   "id": "f14bbfd2-3481-49b5-99a0-52620fdedea8",
   "metadata": {},
   "outputs": [],
   "source": [
    "def buildTree(inorder, postorder):\n",
    "        myDict = {val:index for index,val in enumerate(inorder)}\n",
    "        def construct_subTree(left,right):\n",
    "            if left>right:\n",
    "                return None\n",
    "            \n",
    "            value = postorder.pop()\n",
    "            idx = myDict[value]\n",
    "\n",
    "            root = TreeNode(value)\n",
    "\n",
    "            root.right = construct_subTree(idx+1,right)\n",
    "            root.left = construct_subTree(left,idx-1)\n",
    "            \n",
    "            return root\n",
    "        return construct_subTree(0,len(inorder)-1)"
   ]
  },
  {
   "cell_type": "code",
   "execution_count": 19,
   "id": "adb8ebe1-1cd5-40fc-a36a-3700801db480",
   "metadata": {},
   "outputs": [
    {
     "name": "stdout",
     "output_type": "stream",
     "text": [
      "3\n",
      "9\n",
      "20\n",
      "15\n",
      "7\n"
     ]
    }
   ],
   "source": [
    "inorder = [9,3,15,20,7]\n",
    "postorder = [9,15,7,20,3]\n",
    "preorder_print(buildTree(inorder, postorder))"
   ]
  }
 ],
 "metadata": {
  "kernelspec": {
   "display_name": "Python 3 (ipykernel)",
   "language": "python",
   "name": "python3"
  },
  "language_info": {
   "codemirror_mode": {
    "name": "ipython",
    "version": 3
   },
   "file_extension": ".py",
   "mimetype": "text/x-python",
   "name": "python",
   "nbconvert_exporter": "python",
   "pygments_lexer": "ipython3",
   "version": "3.12.7"
  }
 },
 "nbformat": 4,
 "nbformat_minor": 5
}
