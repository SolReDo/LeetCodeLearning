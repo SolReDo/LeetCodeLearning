{
 "cells": [
  {
   "cell_type": "markdown",
   "id": "a444539b-2bbb-4975-8745-4c5fdcaec8bb",
   "metadata": {},
   "source": [
    "# 图\n",
    "图的实现主要通过邻接矩阵和邻接表，其中邻接表可以使用defaltdict(list)实现。"
   ]
  },
  {
   "cell_type": "markdown",
   "id": "a0298328-e597-4849-9a4c-0a6499dda6e9",
   "metadata": {},
   "source": [
    "## 深度优先搜索"
   ]
  },
  {
   "cell_type": "markdown",
   "id": "d6747744-57d8-476d-98bb-4ff2ad751a58",
   "metadata": {},
   "source": [
    "## 广度优先搜索\n",
    "广度优先搜索的主要实现方式是使用一个队列q记录将要访问的节点，使用while q语句实现对q队列的循环访问。"
   ]
  },
  {
   "cell_type": "markdown",
   "id": "a74f1c58-cb59-4348-b0b1-233b55549ac6",
   "metadata": {},
   "source": [
    "### LeetCode399 除法求值\n",
    "给你一个变量对数组 equations 和一个实数值数组 values 作为已知条件，其中 equations[i] = [Ai, Bi] 和 values[i] 共同表示等式 Ai / Bi = values[i] 。每个 Ai 或 Bi 是一个表示单个变量的字符串。\n",
    "另有一些以数组 queries 表示的问题，其中 queries[j] = [Cj, Dj] 表示第 j 个问题，请你根据已知条件找出 Cj / Dj = ? 的结果作为答案。\n",
    "返回 所有问题的答案 。如果存在某个无法确定的答案，则用 -1.0 替代这个答案。如果问题中出现了给定的已知条件中没有出现的字符串，也需要用 -1.0 替代这个答案。\n",
    "注意：输入总是有效的。你可以假设除法运算中不会出现除数为 0 的情况，且不存在任何矛盾的结果。\n",
    "注意：未在等式列表中出现的变量是未定义的，因此无法确定它们的答案。"
   ]
  },
  {
   "cell_type": "markdown",
   "id": "dec4bd87-a6ec-49a8-ad2d-abba1d73ab40",
   "metadata": {},
   "source": [
    "<font color = \"blue\">本题的特点是使用一个visited集合来记录访问过的节点，以及在deque队列中同时储存访问的节点和代价，解决了代价储存计算的难题</font>"
   ]
  },
  {
   "cell_type": "code",
   "execution_count": 7,
   "id": "dbe99ef4-03f7-4e99-8158-e102835d8917",
   "metadata": {},
   "outputs": [],
   "source": [
    "from collections import defaultdict,deque\n",
    "def calcEquation(equations, values, queries):\n",
    "    result = []\n",
    "    edges = defaultdict(list)\n",
    "    for i,eq in enumerate(equations):\n",
    "        edges[eq[0]].append((eq[1],values[i]))\n",
    "        edges[eq[1]].append((eq[0],1/values[i]))\n",
    "    \n",
    "    q = deque()\n",
    "    for a,b in queries:\n",
    "        if a not in edges or b not in edges:\n",
    "            result.append(-1.0)\n",
    "            continue\n",
    "        if a == b:\n",
    "            result.append(1.0)\n",
    "            continue\n",
    "        \n",
    "        q.append((a,1.0))\n",
    "        visited = set()\n",
    "        flag = 0\n",
    "        while q:\n",
    "            x,cur_w = q.popleft()\n",
    "            for neighbor,w in edges[x]:\n",
    "                if neighbor not in visited:                        \n",
    "                    visited.add(neighbor)\n",
    "                    tmp = cur_w*w\n",
    "                    q.append((neighbor,tmp))\n",
    "                    if neighbor == b:\n",
    "                        result.append(tmp)\n",
    "                        flag =1\n",
    "                        break\n",
    "        if flag == 0:\n",
    "            result.append(-1.0)\n",
    "                \n",
    "    return result"
   ]
  },
  {
   "cell_type": "code",
   "execution_count": 8,
   "id": "7a2b197b-7eee-4f79-b24e-96a08eda28b4",
   "metadata": {},
   "outputs": [
    {
     "data": {
      "text/plain": [
       "[3.75, 0.4, 5.0, 0.2]"
      ]
     },
     "execution_count": 8,
     "metadata": {},
     "output_type": "execute_result"
    }
   ],
   "source": [
    "equations = [[\"a\",\"b\"],[\"b\",\"c\"],[\"bc\",\"cd\"]]\n",
    "values = [1.5,2.5,5.0]\n",
    "queries = [[\"a\",\"c\"],[\"c\",\"b\"],[\"bc\",\"cd\"],[\"cd\",\"bc\"]]\n",
    "calcEquation(equations, values, queries)"
   ]
  },
  {
   "cell_type": "markdown",
   "id": "2b313011-6d38-4824-82cd-183694314258",
   "metadata": {},
   "source": [
    "## 拓扑排序\n",
    "拓扑排序主要用于对于处理有向无环图的顶点线性序列，可用于处理任务的优先级。实现方式是计算所有点的入度，不断将入度为0的点放入访问队列。"
   ]
  },
  {
   "cell_type": "markdown",
   "id": "60c7279e-fe4b-4d8f-8372-02730eb7700c",
   "metadata": {},
   "source": [
    "### LeetCode210 课程表II\n",
    "现在你总共有 numCourses 门课需要选，记为 0 到 numCourses - 1。给你一个数组 prerequisites ，其中 prerequisites[i] = [ai, bi] ，表示在选修课程 ai前必须先选修bi 。\n",
    "例如，想要学习课程 0，你需要先完成课程1，我们用一个匹配来表示：[0,1] 。\n",
    "返回你为了学完所有课程所安排的学习顺序。可能会有多个正确的顺序，你只要返回 任意一种 就可以了。如果不可能完成所有课程，返回一个空数组。"
   ]
  },
  {
   "cell_type": "code",
   "execution_count": 5,
   "id": "ca7f7fe6-4160-4520-880d-4f4aac91e391",
   "metadata": {},
   "outputs": [],
   "source": [
    "from collections import deque,defaultdict\n",
    "def findOrder(numCourses, prerequisites):\n",
    "    q = deque()\n",
    "    edges = defaultdict(list)\n",
    "    inDgree = [0]*numCourses\n",
    "    ans = []\n",
    "    for a,b in prerequisites:\n",
    "        edges[b].append(a)\n",
    "        inDgree[a] += 1\n",
    "    \n",
    "    for i in range(numCourses):\n",
    "        if inDgree[i] == 0:\n",
    "            q.append(i)\n",
    "\n",
    "    while q:\n",
    "        tmp = q.popleft()\n",
    "        ans.append(tmp)\n",
    "        for point in edges[tmp]:\n",
    "            inDgree[point]-=1\n",
    "            if inDgree[point] == 0:\n",
    "                q.append(point)\n",
    "\n",
    "    if len(ans)!=numCourses:\n",
    "        return []\n",
    "        \n",
    "    return ans"
   ]
  },
  {
   "cell_type": "code",
   "execution_count": 6,
   "id": "cce14dc1-7571-44a7-b2db-abc043305487",
   "metadata": {},
   "outputs": [
    {
     "data": {
      "text/plain": [
       "[0, 1, 2, 3]"
      ]
     },
     "execution_count": 6,
     "metadata": {},
     "output_type": "execute_result"
    }
   ],
   "source": [
    "numCourses = 4\n",
    "prerequisties = [[1,0],[2,0],[3,1],[3,2]]\n",
    "findOrder(numCourses,prerequisties)"
   ]
  },
  {
   "cell_type": "code",
   "execution_count": null,
   "id": "4e53d1ae-9399-4a15-b2e3-f9c69820e02d",
   "metadata": {},
   "outputs": [],
   "source": []
  }
 ],
 "metadata": {
  "kernelspec": {
   "display_name": "Python 3 (ipykernel)",
   "language": "python",
   "name": "python3"
  },
  "language_info": {
   "codemirror_mode": {
    "name": "ipython",
    "version": 3
   },
   "file_extension": ".py",
   "mimetype": "text/x-python",
   "name": "python",
   "nbconvert_exporter": "python",
   "pygments_lexer": "ipython3",
   "version": "3.12.7"
  }
 },
 "nbformat": 4,
 "nbformat_minor": 5
}
