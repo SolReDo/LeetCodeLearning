{
 "cells": [
  {
   "cell_type": "markdown",
   "id": "545b6dd7-e6f0-42c5-97e9-4b22e1097093",
   "metadata": {},
   "source": [
    "# 堆\n",
    "堆必须是一个**完全二叉树**<br>\n",
    "由于其是**完全二叉树**，所以节点下标以0开始时，某节点编号为i，则左子节点编号为2i+1，右子节点为2i+2。<br>\n",
    "大根堆：所有子节点小于其父节点<br>\n",
    "小根堆：所有子节点大于其父节点<br><br>\n",
    "**下滤**：<br>\n",
    "**大根堆**中根节点与最大的子节点比较，小于则交换。以此不停下沉，使重新构建成堆<br>\n",
    "在自下而上建堆法中使用，方法是从下层到上层对每个父节点进行下滤操作，当列举完结点的下滤操作后堆就构造完成了。<br><br>\n",
    "**上浮**：<br>\n",
    "**大根堆**将数的最后一个节点与父节点比较，大于则交换。以此不停上浮。常用于插入新元素进入堆。<br>\n",
    "在自顶向下建堆法时使用。方法是在堆尾加入新节点然后上浮操作<br>\n",
    "<br>\n",
    "应用：优先队列，"
   ]
  },
  {
   "cell_type": "markdown",
   "id": "85681822-86f6-4cf1-9c98-013cef94a824",
   "metadata": {},
   "source": [
    "## 堆排序"
   ]
  },
  {
   "cell_type": "code",
   "execution_count": 7,
   "id": "3ba29547-6fec-42a9-b9dd-9e1eb7f115c8",
   "metadata": {},
   "outputs": [],
   "source": [
    "def max_heapfy(heap,start,end):                          #构造最大堆\n",
    "    root = start\n",
    "    son = start * 2 + 1\n",
    "    while son <= end:\n",
    "        if son+1<=end and heap[son+1]>heap[son]:         # 先判断右节点是否在start-end区间然后取左右子节点更大的那个\n",
    "            son = son + 1\n",
    "        if heap[son] > heap[root]:\n",
    "            heap[son],heap[root] = heap[root],heap[son]\n",
    "            root, son = son,son * 2 + 1\n",
    "        else:\n",
    "            break\n",
    "    return heap\n",
    "\n",
    "def heap_sort(myList):\n",
    "    n = len(myList)\n",
    "    for i in range(n//2,-1,-1):                          #构造大堆\n",
    "        max_heapfy(myList,i,n-1)\n",
    "\n",
    "    for j in range(n-1,0,-1):                            #交换堆顶元素和最后一个元素\n",
    "        myList[0],myList[j] = myList[j],myList[0]\n",
    "        max_heapfy(myList,0,j-1)\n",
    "    return myList"
   ]
  },
  {
   "cell_type": "code",
   "execution_count": 8,
   "id": "c9a9090f-f60f-4a60-891e-c35be47000ae",
   "metadata": {},
   "outputs": [
    {
     "data": {
      "text/plain": [
       "[1, 2, 4, 5, 5, 5, 7, 9, 23, 34, 43, 77, 78]"
      ]
     },
     "execution_count": 8,
     "metadata": {},
     "output_type": "execute_result"
    }
   ],
   "source": [
    "a = [1,4,2,5,7,9,43,5,77,34,23,5,78]\n",
    "heap_sort(a)"
   ]
  }
 ],
 "metadata": {
  "kernelspec": {
   "display_name": "Python 3 (ipykernel)",
   "language": "python",
   "name": "python3"
  },
  "language_info": {
   "codemirror_mode": {
    "name": "ipython",
    "version": 3
   },
   "file_extension": ".py",
   "mimetype": "text/x-python",
   "name": "python",
   "nbconvert_exporter": "python",
   "pygments_lexer": "ipython3",
   "version": "3.12.7"
  }
 },
 "nbformat": 4,
 "nbformat_minor": 5
}
