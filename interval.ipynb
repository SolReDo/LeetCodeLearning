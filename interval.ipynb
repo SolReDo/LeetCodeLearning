{
 "cells": [
  {
   "cell_type": "markdown",
   "id": "ea2d6268-6f5f-426a-87b5-9b1e4657317a",
   "metadata": {},
   "source": [
    "# 区间\n",
    "区间主要是数组的处理，理清楚逻辑关系模拟即可"
   ]
  },
  {
   "cell_type": "markdown",
   "id": "f718756d-33b7-41db-92af-fd4755242ae3",
   "metadata": {},
   "source": [
    "## Leetcode57 插入区间\n",
    "给你一个 无重叠的 ，按照区间起始端点排序的区间列表 intervals，其中 intervals[i] = [starti, endi] 表示第 i 个区间的开始和结束，并且 intervals 按照 starti 升序排列。同样给定一个区间 newInterval = [start, end] 表示另一个区间的开始和结束。\n",
    "在 intervals 中插入区间 newInterval，使得 intervals 依然按照 starti 升序排列，且区间之间不重叠（如果有必要的话，可以合并区间）。\n",
    "返回插入之后的 intervals。\n",
    "注意 你不需要原地修改 intervals。你可以创建一个新数组然后返回它。\n",
    "\n",
    "示例 1：\n",
    "输入：intervals = [[1,3],[6,9]], newInterval = [2,5]\n",
    "输出：[[1,5],[6,9]]\n",
    "\n",
    "示例 2：\n",
    "输入：intervals = [[1,2],[3,5],[6,7],[8,10],[12,16]], newInterval = [4,8]\n",
    "输出：[[1,2],[3,10],[12,16]]\n",
    "解释：这是因为新的区间 [4,8] 与 [3,5],[6,7],[8,10] 重叠。\n",
    " \n",
    "提示：\n",
    "0 <= intervals.length <= 104\n",
    "intervals[i].length == 2\n",
    "0 <= starti <= endi <= 105\n",
    "intervals 根据 starti 按 升序 排列\n",
    "newInterval.length == 2\n",
    "0 <= start <= end <= 105"
   ]
  },
  {
   "cell_type": "markdown",
   "id": "268dfb6b-03ff-4402-bf02-6625be215d81",
   "metadata": {},
   "source": [
    "**在右侧使用placed标记判断是否插入成功**"
   ]
  },
  {
   "cell_type": "code",
   "execution_count": 5,
   "id": "4186fb48-42d3-4663-875e-1b8530d7665d",
   "metadata": {},
   "outputs": [],
   "source": [
    "def insert(intervals, newInterval):\n",
    "    start,end = newInterval\n",
    "    result = []\n",
    "    placed = 0\n",
    "    newleft,newright = start,end\n",
    "    for l,r in intervals:\n",
    "        if r<start:\n",
    "            result.append([l,r])\n",
    "        elif l>end:\n",
    "            if not placed:\n",
    "                result.append([newleft,newright])\n",
    "                placed = 1\n",
    "            result.append([l,r])\n",
    "        else:\n",
    "            newleft= min(newleft,start,l)\n",
    "            newright = max(newright,end,r)\n",
    "\n",
    "    if not placed:\n",
    "        result.append([newleft,newright])\n",
    "    return result"
   ]
  },
  {
   "cell_type": "code",
   "execution_count": 6,
   "id": "1dd77ae0-fd54-42c7-9bcc-7a27638b12b6",
   "metadata": {},
   "outputs": [
    {
     "name": "stdout",
     "output_type": "stream",
     "text": [
      "[[1, 2], [3, 5], [6, 7], [8, 10], [12, 16]]\n",
      "[4, 8]\n"
     ]
    },
    {
     "data": {
      "text/plain": [
       "[[1, 2], [3, 10], [12, 16]]"
      ]
     },
     "execution_count": 6,
     "metadata": {},
     "output_type": "execute_result"
    }
   ],
   "source": [
    "intervals = [[1,2],[3,5],[6,7],[8,10],[12,16]]\n",
    "newInterval = [4,8]\n",
    "print(intervals)\n",
    "print(newInterval)\n",
    "insert(intervals, newInterval)"
   ]
  },
  {
   "cell_type": "code",
   "execution_count": null,
   "id": "3c4ff89b-75b7-4ce8-b438-8bfb71ddd409",
   "metadata": {},
   "outputs": [],
   "source": []
  }
 ],
 "metadata": {
  "kernelspec": {
   "display_name": "Python 3 (ipykernel)",
   "language": "python",
   "name": "python3"
  },
  "language_info": {
   "codemirror_mode": {
    "name": "ipython",
    "version": 3
   },
   "file_extension": ".py",
   "mimetype": "text/x-python",
   "name": "python",
   "nbconvert_exporter": "python",
   "pygments_lexer": "ipython3",
   "version": "3.12.7"
  }
 },
 "nbformat": 4,
 "nbformat_minor": 5
}
