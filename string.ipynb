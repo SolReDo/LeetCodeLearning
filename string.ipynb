{
 "cells": [
  {
   "cell_type": "markdown",
   "id": "eaf31ff2-7611-4f2e-b332-fd10c6bc8312",
   "metadata": {
    "scrolled": true
   },
   "source": [
    "# 字符串的常用方法\n"
   ]
  },
  {
   "cell_type": "markdown",
   "id": "13b5d8d5-54e4-43ae-80c3-1ca5e0a7575a",
   "metadata": {},
   "source": [
    "## split方法:"
   ]
  },
  {
   "cell_type": "markdown",
   "id": "fa7c8106-43f8-475f-8928-8bf844e81df3",
   "metadata": {},
   "source": [
    "分割字符串，并返回一个列表。\n",
    "使用方法：str.split(\"分割符\")"
   ]
  },
  {
   "cell_type": "code",
   "execution_count": 20,
   "id": "dff16c98-bd27-44e5-b1fd-626b5691085e",
   "metadata": {},
   "outputs": [
    {
     "name": "stdout",
     "output_type": "stream",
     "text": [
      "S P L I T\n"
     ]
    }
   ],
   "source": [
    "string = \"S P L I T\"\n",
    "print(string)"
   ]
  },
  {
   "cell_type": "code",
   "execution_count": 21,
   "id": "fec8b828-3a56-4668-b677-39cde267338e",
   "metadata": {},
   "outputs": [
    {
     "name": "stdout",
     "output_type": "stream",
     "text": [
      "['S', 'P', 'L', 'I', 'T']\n"
     ]
    }
   ],
   "source": [
    "slist = string.split(\" \")\n",
    "print(slist)"
   ]
  },
  {
   "cell_type": "markdown",
   "id": "aca3d9b8-3ab0-4abf-9999-32ebf524e19c",
   "metadata": {},
   "source": [
    "## strip方法"
   ]
  },
  {
   "cell_type": "markdown",
   "id": "5a6b3fee-d814-452d-adfc-8cc6b600ac9f",
   "metadata": {},
   "source": [
    "删除字符串开头结尾的指定字符,返回修改后的字符串。使用方法：str.strip(\"指定字符\")。其中指定字符默认为空格"
   ]
  },
  {
   "cell_type": "code",
   "execution_count": 22,
   "id": "ce57162d-c96a-4a35-9ed1-18eb1eb581be",
   "metadata": {},
   "outputs": [
    {
     "name": "stdout",
     "output_type": "stream",
     "text": [
      "   Hellow    \n",
      "///Hellow///\n"
     ]
    }
   ],
   "source": [
    "string0 = \"   Hellow    \"\n",
    "string1 = \"///Hellow///\"\n",
    "print(string0)\n",
    "print(string1)"
   ]
  },
  {
   "cell_type": "code",
   "execution_count": 23,
   "id": "ba5e79ff-150b-43ff-b1ce-775482b03669",
   "metadata": {},
   "outputs": [
    {
     "name": "stdout",
     "output_type": "stream",
     "text": [
      "Hellow\n",
      "Hellow\n"
     ]
    }
   ],
   "source": [
    "strip0 = string0.strip()\n",
    "strip1 = string1.strip(\"/\")\n",
    "print(strip0)\n",
    "print(strip1)"
   ]
  },
  {
   "cell_type": "code",
   "execution_count": null,
   "id": "44505f58-13c2-4fa7-abbf-43b8e0df71ce",
   "metadata": {},
   "outputs": [],
   "source": []
  }
 ],
 "metadata": {
  "kernelspec": {
   "display_name": "Python 3 (ipykernel)",
   "language": "python",
   "name": "python3"
  },
  "language_info": {
   "codemirror_mode": {
    "name": "ipython",
    "version": 3
   },
   "file_extension": ".py",
   "mimetype": "text/x-python",
   "name": "python",
   "nbconvert_exporter": "python",
   "pygments_lexer": "ipython3",
   "version": "3.12.7"
  }
 },
 "nbformat": 4,
 "nbformat_minor": 5
}
