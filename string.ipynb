{
 "cells": [
  {
   "cell_type": "markdown",
   "id": "eaf31ff2-7611-4f2e-b332-fd10c6bc8312",
   "metadata": {
    "scrolled": true
   },
   "source": [
    "# 字符串的常用方法\n"
   ]
  },
  {
   "cell_type": "markdown",
   "id": "15ee6be8-1f3c-4f19-8898-d876da20f7d1",
   "metadata": {},
   "source": [
    "## len方法\n",
    "返回字符串长度"
   ]
  },
  {
   "cell_type": "markdown",
   "id": "13b5d8d5-54e4-43ae-80c3-1ca5e0a7575a",
   "metadata": {},
   "source": [
    "## split方法:"
   ]
  },
  {
   "cell_type": "markdown",
   "id": "fa7c8106-43f8-475f-8928-8bf844e81df3",
   "metadata": {},
   "source": [
    "分割字符串，并返回一个列表。\n",
    "使用方法：str.split(\"分割符\")"
   ]
  },
  {
   "cell_type": "code",
   "execution_count": 4,
   "id": "dff16c98-bd27-44e5-b1fd-626b5691085e",
   "metadata": {},
   "outputs": [
    {
     "name": "stdout",
     "output_type": "stream",
     "text": [
      "S P L I T\n"
     ]
    }
   ],
   "source": [
    "string = \"S P L I T\"\n",
    "print(string)"
   ]
  },
  {
   "cell_type": "code",
   "execution_count": 5,
   "id": "fec8b828-3a56-4668-b677-39cde267338e",
   "metadata": {},
   "outputs": [
    {
     "name": "stdout",
     "output_type": "stream",
     "text": [
      "['S', 'P', 'L', 'I', 'T']\n"
     ]
    }
   ],
   "source": [
    "slist = string.split(\" \")\n",
    "print(slist)"
   ]
  },
  {
   "cell_type": "markdown",
   "id": "7964dc31-bafe-4a7b-b456-030e45c87309",
   "metadata": {},
   "source": [
    "## join方法\n",
    "将字符串用作连接符号，将可迭代对象中的元素连接成新的一个字符串.<font color = 'blue'>此外，刷题时常用\"\".join(iterable)来构建新字符串</font>"
   ]
  },
  {
   "cell_type": "code",
   "execution_count": 6,
   "id": "3522316c-58a4-4885-a5bb-db8af7620efb",
   "metadata": {},
   "outputs": [
    {
     "name": "stdout",
     "output_type": "stream",
     "text": [
      "a0b0c0d0e0f0g\n",
      "abcdefg\n"
     ]
    }
   ],
   "source": [
    "wordList = ['a','b','c','d','e','f','g']\n",
    "s = '0'\n",
    "print(s.join(wordList))\n",
    "print(''.join(wordList))"
   ]
  },
  {
   "cell_type": "markdown",
   "id": "aca3d9b8-3ab0-4abf-9999-32ebf524e19c",
   "metadata": {},
   "source": [
    "## strip方法"
   ]
  },
  {
   "cell_type": "markdown",
   "id": "5a6b3fee-d814-452d-adfc-8cc6b600ac9f",
   "metadata": {},
   "source": [
    "删除字符串开头结尾的指定字符,返回修改后的字符串。使用方法：str.strip(\"指定字符\")。其中指定字符默认为空格"
   ]
  },
  {
   "cell_type": "code",
   "execution_count": 7,
   "id": "ce57162d-c96a-4a35-9ed1-18eb1eb581be",
   "metadata": {},
   "outputs": [
    {
     "name": "stdout",
     "output_type": "stream",
     "text": [
      "   Hellow    \n",
      "///Hellow///\n"
     ]
    }
   ],
   "source": [
    "string0 = \"   Hellow    \"\n",
    "string1 = \"///Hellow///\"\n",
    "print(string0)\n",
    "print(string1)"
   ]
  },
  {
   "cell_type": "code",
   "execution_count": 8,
   "id": "ba5e79ff-150b-43ff-b1ce-775482b03669",
   "metadata": {},
   "outputs": [
    {
     "name": "stdout",
     "output_type": "stream",
     "text": [
      "Hellow\n",
      "Hellow\n"
     ]
    }
   ],
   "source": [
    "strip0 = string0.strip()\n",
    "strip1 = string1.strip(\"/\")\n",
    "print(strip0)\n",
    "print(strip1)"
   ]
  },
  {
   "cell_type": "markdown",
   "id": "786bc0e4-55f4-4b43-a8f9-f3b5ec8489ab",
   "metadata": {},
   "source": [
    "## isdigit方法\n",
    "检查字符串是否只包含数字字符"
   ]
  },
  {
   "cell_type": "markdown",
   "id": "79868c21-d0b7-437f-bbf4-b17722e705a3",
   "metadata": {},
   "source": [
    "## isalpha方法\n",
    "检查字符串是否只包含字母字符"
   ]
  },
  {
   "cell_type": "markdown",
   "id": "67853868-daf5-400a-81a6-12050c8e2de5",
   "metadata": {},
   "source": [
    "## upper方法\n",
    "将字符串中所有字符转为大写"
   ]
  },
  {
   "cell_type": "markdown",
   "id": "4bf53e86-db49-4188-b1e0-2d2cea1b73b9",
   "metadata": {},
   "source": [
    "## lower方法\n",
    "将字符串中所有字符转为小写"
   ]
  },
  {
   "cell_type": "code",
   "execution_count": null,
   "id": "4194a542-0525-4c02-803a-f7490c7676c7",
   "metadata": {},
   "outputs": [],
   "source": []
  }
 ],
 "metadata": {
  "kernelspec": {
   "display_name": "Python 3 (ipykernel)",
   "language": "python",
   "name": "python3"
  },
  "language_info": {
   "codemirror_mode": {
    "name": "ipython",
    "version": 3
   },
   "file_extension": ".py",
   "mimetype": "text/x-python",
   "name": "python",
   "nbconvert_exporter": "python",
   "pygments_lexer": "ipython3",
   "version": "3.12.7"
  }
 },
 "nbformat": 4,
 "nbformat_minor": 5
}
